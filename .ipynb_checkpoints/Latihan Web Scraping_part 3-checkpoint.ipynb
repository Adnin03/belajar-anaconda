{
 "cells": [
  {
   "cell_type": "code",
   "execution_count": 2,
   "id": "333f1931-5273-41f6-bcf6-06e5c1321db4",
   "metadata": {},
   "outputs": [],
   "source": [
    "import requests\n",
    "from bs4 import BeautifulSoup\n",
    "import csv"
   ]
  },
  {
   "cell_type": "code",
   "execution_count": 5,
   "id": "54d845c3-fb5a-40fb-b9f1-bd73106d70f7",
   "metadata": {},
   "outputs": [],
   "source": [
    "url = \"https://www.scrapethissite.com/pages/simple/\"\n",
    "response = requests.get(url)"
   ]
  },
  {
   "cell_type": "code",
   "execution_count": 7,
   "id": "7e899ce4-566c-4a11-bbb4-3792bc01add6",
   "metadata": {},
   "outputs": [
    {
     "data": {
      "text/plain": [
       "200"
      ]
     },
     "execution_count": 7,
     "metadata": {},
     "output_type": "execute_result"
    }
   ],
   "source": [
    "# cek apakah berhasil\n",
    "response.status_code"
   ]
  },
  {
   "cell_type": "code",
   "execution_count": 11,
   "id": "ede5a3d2-3731-42b6-a53f-76bfa2baee4d",
   "metadata": {},
   "outputs": [],
   "source": [
    "soup = BeautifulSoup(response.text, \"html.parser\")"
   ]
  },
  {
   "cell_type": "code",
   "execution_count": 14,
   "id": "2410b533-29f8-4695-a08f-ceebdc28812b",
   "metadata": {},
   "outputs": [
    {
     "name": "stdout",
     "output_type": "stream",
     "text": [
      "<!DOCTYPE html>\n",
      "<html lang=\"en\">\n",
      " <head>\n",
      "  <meta charset=\"utf-8\"/>\n",
      "  <title>\n",
      "   Countries of the World: A Simple Example | Scrape This Site | A public sandbox for learning web scraping\n",
      "  </title>\n",
      "  <link href=\"/static/images/scraper-icon.png\" rel=\"icon\" type=\"image/png\"/>\n",
      "  <meta content=\"width=device-width, initial-scale=1.0\" name=\"viewport\"/>\n",
      "  <meta content=\"A single page that lists information about all the countries in the world. Good for those just get started with web scraping.\" name=\"description\"/>\n",
      "  <link crossorigin=\"anonymous\" href=\"https://maxcdn.bootstrapcdn.com/bootstrap/3.3.5/css/bootstrap.min.css\" integrity=\"sha256-MfvZlkHCEqatNoGiOXveE8FIwMzZg4W85qfrfIFBfYc= sha512-dTfge/zgoMYpP7QbHy4gWMEGsbsdZeCXz7irItjcC3sPUFtf0kuFbDz/ixG7ArTxmDjLXDmezHubeNikyKGVyQ==\" rel=\"stylesheet\"/>\n",
      "  <link href=\"https://fonts.googleapis.com/css?family=Lato:400,700\" rel=\"stylesheet\" type=\"text/css\"/>\n",
      "  <link href=\"/static/css/styles.css\" rel=\"stylesheet\" type=\"text/css\"/>\n",
      "  <meta content=\"noindex\n"
     ]
    }
   ],
   "source": [
    "print(soup.prettify()[:1000])"
   ]
  },
  {
   "cell_type": "code",
   "execution_count": 17,
   "id": "489bb038-cd37-491b-b269-24a1b4abe1c1",
   "metadata": {},
   "outputs": [],
   "source": [
    "# cari semua negara\n",
    "countries = soup.find_all('div', class_='col-md-4 country')"
   ]
  },
  {
   "cell_type": "code",
   "execution_count": 22,
   "id": "109141c4-a452-4745-809f-9a0f7d162908",
   "metadata": {},
   "outputs": [],
   "source": [
    "# kumpulkan semua data\n",
    "data_negara = []\n",
    "for country in countries:\n",
    "    negara = country.find('h3', class_='country-name').text.strip()\n",
    "    capital = country.find('span', class_='country-capital').text\n",
    "    population = country.find('span', class_='country-population').text\n",
    "    area = country.find('span', class_='country-area').text\n",
    "\n",
    "    data_negara.append({\n",
    "        'Negara':negara,\n",
    "        'Ibu Kota':capital,\n",
    "        'Populasi':population,\n",
    "        'Luas(km²)':area\n",
    "    })"
   ]
  },
  {
   "cell_type": "code",
   "execution_count": 23,
   "id": "17d32873-d63b-4ebd-9323-f2400c96459d",
   "metadata": {},
   "outputs": [
    {
     "name": "stdout",
     "output_type": "stream",
     "text": [
      "Data berhasil disimpan di file negara.csv\n"
     ]
    }
   ],
   "source": [
    "with open('negara.csv', mode='w', newline='', encoding='utf-8')as file:\n",
    "    writer = csv.DictWriter(file, fieldnames=['Negara', 'Ibu Kota', 'Populasi', 'Luas(km²)'])\n",
    "    writer.writeheader()\n",
    "    writer.writerows(data_negara)\n",
    "\n",
    "print('Data berhasil disimpan di file negara.csv')"
   ]
  },
  {
   "cell_type": "code",
   "execution_count": null,
   "id": "7f099d01-2000-44f9-bfdf-d0e7b5c5b91f",
   "metadata": {},
   "outputs": [],
   "source": []
  },
  {
   "cell_type": "code",
   "execution_count": null,
   "id": "db90da38-9b29-4a15-b3b4-d98c6f8d4648",
   "metadata": {},
   "outputs": [],
   "source": []
  },
  {
   "cell_type": "code",
   "execution_count": null,
   "id": "2ecac09c-5b41-4d22-a3df-24dca6d7d327",
   "metadata": {},
   "outputs": [],
   "source": []
  },
  {
   "cell_type": "code",
   "execution_count": null,
   "id": "a3f7561d-2257-4477-be1c-fe269c8388fa",
   "metadata": {},
   "outputs": [],
   "source": []
  }
 ],
 "metadata": {
  "kernelspec": {
   "display_name": "Python 3 (ipykernel)",
   "language": "python",
   "name": "python3"
  },
  "language_info": {
   "codemirror_mode": {
    "name": "ipython",
    "version": 3
   },
   "file_extension": ".py",
   "mimetype": "text/x-python",
   "name": "python",
   "nbconvert_exporter": "python",
   "pygments_lexer": "ipython3",
   "version": "3.13.5"
  }
 },
 "nbformat": 4,
 "nbformat_minor": 5
}
