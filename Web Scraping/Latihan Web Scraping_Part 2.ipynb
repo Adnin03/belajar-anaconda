{
 "cells": [
  {
   "cell_type": "code",
   "execution_count": 3,
   "id": "4a91cad4-0af4-40b3-ab70-d2826fb94896",
   "metadata": {},
   "outputs": [],
   "source": [
    "import requests\n",
    "from bs4 import BeautifulSoup\n",
    "import csv"
   ]
  },
  {
   "cell_type": "code",
   "execution_count": 4,
   "id": "f2cc3b96-4c8b-4562-b84f-acd059879c55",
   "metadata": {},
   "outputs": [],
   "source": [
    "url = \"https://quotes.toscrape.com/\"\n",
    "response = requests.get(url)"
   ]
  },
  {
   "cell_type": "code",
   "execution_count": 5,
   "id": "50c91cd4-8d97-4a9d-beae-ad0a057ceba4",
   "metadata": {},
   "outputs": [
    {
     "data": {
      "text/plain": [
       "200"
      ]
     },
     "execution_count": 5,
     "metadata": {},
     "output_type": "execute_result"
    }
   ],
   "source": [
    "# cek apakah berhasil\n",
    "response.status_code"
   ]
  },
  {
   "cell_type": "code",
   "execution_count": 12,
   "id": "70742efc-e01c-4f63-acf0-232b5d3a3787",
   "metadata": {},
   "outputs": [],
   "source": [
    "soup = BeautifulSoup(response.text, \"html.parser\")"
   ]
  },
  {
   "cell_type": "code",
   "execution_count": 13,
   "id": "60800664-def3-47eb-9fe2-613c5c21abf2",
   "metadata": {},
   "outputs": [
    {
     "name": "stdout",
     "output_type": "stream",
     "text": [
      "<!DOCTYPE html>\n",
      "<html lang=\"en\">\n",
      " <head>\n",
      "  <meta charset=\"utf-8\"/>\n",
      "  <title>\n",
      "   Quotes to Scrape\n",
      "  </title>\n",
      "  <link href=\"/static/bootstrap.min.css\" rel=\"stylesheet\"/>\n",
      "  <link href=\"/static/main.css\" rel=\"stylesheet\"/>\n",
      " </head>\n",
      " <body>\n",
      "  <div class=\"container\">\n",
      "   <div class=\"row header-box\">\n",
      "    <div class=\"col-md-8\">\n",
      "     <h1>\n",
      "      <a href=\"/\" style=\"text-decoration: none\">\n",
      "       Quotes to Scrape\n",
      "      </a>\n",
      "     </h1>\n",
      "    </div>\n",
      "    <div class=\"col-md-4\">\n",
      "     <p>\n",
      "      <a href=\"/login\">\n",
      "       Login\n",
      "      </a>\n",
      "     </p>\n",
      "    </div>\n",
      "   </div>\n",
      "   <div class=\"row\">\n",
      "    <div class=\"col-md-8\">\n",
      "     <div class=\"quote\" itemscope=\"\" itemtype=\"http://schema.org/CreativeWork\">\n",
      "      <span class=\"text\" itemprop=\"text\">\n",
      "       “The world as we have created it is a process of our thinking. It cannot be changed without changing our thinking.”\n",
      "      </span>\n",
      "      <span>\n",
      "       by\n",
      "       <small class=\"author\" itemprop=\"author\">\n",
      "        Albert Einstein\n",
      "       </small>\n",
      "       <a href=\"/author/Albert\n"
     ]
    }
   ],
   "source": [
    "print(soup.prettify()[:1000])"
   ]
  },
  {
   "cell_type": "code",
   "execution_count": 16,
   "id": "7a0672ba-3dc5-413a-a684-63a8de1f5674",
   "metadata": {},
   "outputs": [],
   "source": [
    "# cari semua quotes yang ada di halaman pertama\n",
    "quotes = soup.find_all('div', class_='quote')"
   ]
  },
  {
   "cell_type": "code",
   "execution_count": 55,
   "id": "7d16729b-204d-424b-bb1d-a3e26c22447c",
   "metadata": {},
   "outputs": [],
   "source": [
    "# # kumpulkan data quotes\n",
    "data_quote = []\n",
    "for quote in quotes:\n",
    "    text = quote.find('span', class_='text').text\n",
    "    author = quote.find('small', class_='author').text\n",
    "    tags = quote.find_all('a', class_='tag')\n",
    "    tags_list = [tag.text for tag in tags]\n",
    "    tags = \", \".join(tags_list)\n",
    "\n",
    "    data_quote.append({\n",
    "        \"Teks\":text,\n",
    "        \"Penulis\":author,\n",
    "        \"Tags\":tags\n",
    "    })"
   ]
  },
  {
   "cell_type": "code",
   "execution_count": 56,
   "id": "77458256-dbc9-438b-8452-3ae4584c5267",
   "metadata": {},
   "outputs": [
    {
     "name": "stdout",
     "output_type": "stream",
     "text": [
      "Data berhasil disimpan di quote.csv\n"
     ]
    }
   ],
   "source": [
    "with open(\"quote.csv\", mode=\"w\", newline=\"\", encoding=\"utf-8\")as file:\n",
    "    writer = csv.DictWriter(file, fieldnames=[\"Teks\", \"Penulis\", \"Tags\"])\n",
    "    writer.writeheader()\n",
    "    writer.writerows(data_quote)\n",
    "\n",
    "print(\"Data berhasil disimpan di quote.csv\")"
   ]
  },
  {
   "cell_type": "code",
   "execution_count": null,
   "id": "342ac025-32ad-425f-8106-b7e9f367bd4b",
   "metadata": {},
   "outputs": [],
   "source": []
  }
 ],
 "metadata": {
  "kernelspec": {
   "display_name": "Python 3 (ipykernel)",
   "language": "python",
   "name": "python3"
  },
  "language_info": {
   "codemirror_mode": {
    "name": "ipython",
    "version": 3
   },
   "file_extension": ".py",
   "mimetype": "text/x-python",
   "name": "python",
   "nbconvert_exporter": "python",
   "pygments_lexer": "ipython3",
   "version": "3.13.5"
  }
 },
 "nbformat": 4,
 "nbformat_minor": 5
}
