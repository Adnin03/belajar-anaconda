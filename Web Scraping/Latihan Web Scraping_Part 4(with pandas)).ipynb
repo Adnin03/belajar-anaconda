{
 "cells": [
  {
   "cell_type": "code",
   "execution_count": 1,
   "id": "9b504877-b65b-49bf-b96f-634255cfc445",
   "metadata": {},
   "outputs": [],
   "source": [
    "import pandas as pd"
   ]
  },
  {
   "cell_type": "markdown",
   "id": "5413bf02-23f1-4873-9920-693bb034088e",
   "metadata": {},
   "source": [
    "## 1. Read a .csv from URL with Pandas\n",
    "\n",
    "Target website: https://www.scrapethissite.com/pages/forms/"
   ]
  },
  {
   "cell_type": "code",
   "execution_count": 5,
   "id": "0d37af7e-6e33-4038-96e5-a007e4e01d2f",
   "metadata": {},
   "outputs": [],
   "source": [
    "# reading 1 csv file from the website"
   ]
  },
  {
   "cell_type": "code",
   "execution_count": null,
   "id": "13cc6a2b-047b-473a-b8eb-70bccd820f56",
   "metadata": {},
   "outputs": [],
   "source": [
    "# showing dataframe "
   ]
  },
  {
   "cell_type": "code",
   "execution_count": null,
   "id": "969c8d77-0665-4038-ac1a-ae2081058c13",
   "metadata": {},
   "outputs": [],
   "source": [
    "# rename columns"
   ]
  },
  {
   "cell_type": "code",
   "execution_count": null,
   "id": "12033033-ea9b-4fd7-8a65-c551215e7337",
   "metadata": {},
   "outputs": [],
   "source": [
    "# show dataframe"
   ]
  },
  {
   "cell_type": "code",
   "execution_count": null,
   "id": "c48ed06c-660e-43a1-a7bf-b9b8d2f70722",
   "metadata": {},
   "outputs": [],
   "source": []
  },
  {
   "cell_type": "code",
   "execution_count": null,
   "id": "0a4ad77e-171a-4869-bcbc-e657e4b541c8",
   "metadata": {},
   "outputs": [],
   "source": []
  },
  {
   "cell_type": "code",
   "execution_count": null,
   "id": "ac944b1d-c8ea-455a-a014-0de92fbc5863",
   "metadata": {},
   "outputs": [],
   "source": []
  }
 ],
 "metadata": {
  "kernelspec": {
   "display_name": "Python 3 (ipykernel)",
   "language": "python",
   "name": "python3"
  },
  "language_info": {
   "codemirror_mode": {
    "name": "ipython",
    "version": 3
   },
   "file_extension": ".py",
   "mimetype": "text/x-python",
   "name": "python",
   "nbconvert_exporter": "python",
   "pygments_lexer": "ipython3",
   "version": "3.13.5"
  }
 },
 "nbformat": 4,
 "nbformat_minor": 5
}
