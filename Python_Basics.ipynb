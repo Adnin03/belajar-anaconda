{
 "cells": [
  {
   "cell_type": "markdown",
   "id": "de44c2bf-a5c3-4e33-9b80-de0e60457a84",
   "metadata": {},
   "source": [
    "# Python Basics"
   ]
  },
  {
   "cell_type": "markdown",
   "id": "b497f0f5-20f5-4cb8-aab3-260570a37354",
   "metadata": {},
   "source": [
    "## 1. Hello World"
   ]
  },
  {
   "cell_type": "code",
   "execution_count": 1,
   "id": "a3047577-411f-481f-8ebb-836e0ecbc926",
   "metadata": {},
   "outputs": [
    {
     "name": "stdout",
     "output_type": "stream",
     "text": [
      "Hello World\n"
     ]
    }
   ],
   "source": [
    "# Printing my first message\n",
    "print(\"Hello World\")"
   ]
  },
  {
   "cell_type": "code",
   "execution_count": 3,
   "id": "e6399e9e-015f-4969-a248-17b267b04813",
   "metadata": {},
   "outputs": [
    {
     "data": {
      "text/plain": [
       "'Hello World'"
      ]
     },
     "execution_count": 3,
     "metadata": {},
     "output_type": "execute_result"
    }
   ],
   "source": [
    "\"Hello World\""
   ]
  },
  {
   "cell_type": "code",
   "execution_count": 2,
   "id": "646c9e05-1e99-4f3c-ac30-24b74c4d678d",
   "metadata": {},
   "outputs": [
    {
     "name": "stdout",
     "output_type": "stream",
     "text": [
      "Adnin Danil Azkia\n"
     ]
    }
   ],
   "source": [
    "# Printing my name\n",
    "print(\"Adnin Danil Azkia\")"
   ]
  },
  {
   "cell_type": "code",
   "execution_count": 6,
   "id": "161c7b86-9a9f-496f-917c-1099b429b477",
   "metadata": {},
   "outputs": [
    {
     "name": "stdout",
     "output_type": "stream",
     "text": [
      "My age is 20\n"
     ]
    }
   ],
   "source": [
    "# Printing my age\n",
    "print(\"My age is 20\")"
   ]
  },
  {
   "cell_type": "markdown",
   "id": "ae61f7bf-d2e8-45ed-a4c1-3574836baa44",
   "metadata": {},
   "source": [
    "## 2. Data Type"
   ]
  },
  {
   "cell_type": "code",
   "execution_count": 7,
   "id": "fd5e699b-a819-4b67-bf33-a0cf21203108",
   "metadata": {},
   "outputs": [
    {
     "data": {
      "text/plain": [
       "1"
      ]
     },
     "execution_count": 7,
     "metadata": {},
     "output_type": "execute_result"
    }
   ],
   "source": [
    "9 - 8"
   ]
  },
  {
   "cell_type": "code",
   "execution_count": 8,
   "id": "f455321c-97f9-4307-b9d2-b420c6b6f8e3",
   "metadata": {},
   "outputs": [
    {
     "data": {
      "text/plain": [
       "int"
      ]
     },
     "execution_count": 8,
     "metadata": {},
     "output_type": "execute_result"
    }
   ],
   "source": [
    "type(9-8)"
   ]
  },
  {
   "cell_type": "code",
   "execution_count": 9,
   "id": "1130cedb-35d3-47c8-8086-14089e949564",
   "metadata": {},
   "outputs": [
    {
     "data": {
      "text/plain": [
       "bool"
      ]
     },
     "execution_count": 9,
     "metadata": {},
     "output_type": "execute_result"
    }
   ],
   "source": [
    "type(True)"
   ]
  },
  {
   "cell_type": "code",
   "execution_count": 10,
   "id": "95f4cd2e-3ea9-4c72-b9c2-bc232f385aea",
   "metadata": {},
   "outputs": [
    {
     "data": {
      "text/plain": [
       "bool"
      ]
     },
     "execution_count": 10,
     "metadata": {},
     "output_type": "execute_result"
    }
   ],
   "source": [
    "type(False)"
   ]
  },
  {
   "cell_type": "code",
   "execution_count": 12,
   "id": "b58c8ef2-2344-4107-9c69-c7249d491100",
   "metadata": {},
   "outputs": [
    {
     "data": {
      "text/plain": [
       "str"
      ]
     },
     "execution_count": 12,
     "metadata": {},
     "output_type": "execute_result"
    }
   ],
   "source": [
    "type(\"Hello World\")"
   ]
  },
  {
   "cell_type": "code",
   "execution_count": 15,
   "id": "503fe55e-1794-403c-96cd-6790180f687e",
   "metadata": {},
   "outputs": [
    {
     "data": {
      "text/plain": [
       "'Hello World'"
      ]
     },
     "execution_count": 15,
     "metadata": {},
     "output_type": "execute_result"
    }
   ],
   "source": [
    "(\"HeLlo worLd\").upper()\n",
    "(\"HeLlo worLd\").lower()\n",
    "(\"HeLlo worLd\").title()"
   ]
  },
  {
   "cell_type": "code",
   "execution_count": 16,
   "id": "a729ff8e-3287-48eb-abef-8ea0aabae9ea",
   "metadata": {},
   "outputs": [
    {
     "name": "stdout",
     "output_type": "stream",
     "text": [
      "HELLO WORLD\n",
      "hello world\n",
      "Hello World\n"
     ]
    }
   ],
   "source": [
    "print(\"Hello World\".upper())\n",
    "print(\"Hello World\".lower())\n",
    "print(\"Hello World\".title())"
   ]
  },
  {
   "cell_type": "code",
   "execution_count": 22,
   "id": "0667cd88-a3fa-48b6-8013-60cf70773944",
   "metadata": {},
   "outputs": [
    {
     "data": {
      "text/plain": [
       "3"
      ]
     },
     "execution_count": 22,
     "metadata": {},
     "output_type": "execute_result"
    }
   ],
   "source": [
    "\"Hello World\".count('l')"
   ]
  },
  {
   "cell_type": "code",
   "execution_count": 21,
   "id": "f765def6-981f-4d79-b510-d7c0ac06754a",
   "metadata": {},
   "outputs": [
    {
     "data": {
      "text/plain": [
       "'Hella Warld'"
      ]
     },
     "execution_count": 21,
     "metadata": {},
     "output_type": "execute_result"
    }
   ],
   "source": [
    "\"Hello World\".replace('o', 'a')"
   ]
  },
  {
   "cell_type": "markdown",
   "id": "8c53ec8e-b06c-4516-8b2f-e3f8da42a174",
   "metadata": {},
   "source": [
    "## 3. Variabel"
   ]
  },
  {
   "cell_type": "code",
   "execution_count": 24,
   "id": "e188ea5b-b1da-4a93-bee3-673c6684d589",
   "metadata": {},
   "outputs": [
    {
     "data": {
      "text/plain": [
       "\"I'm learning Python\""
      ]
     },
     "execution_count": 24,
     "metadata": {},
     "output_type": "execute_result"
    }
   ],
   "source": [
    "message_1 = \"I'm learning Python\"\n",
    "message_1"
   ]
  },
  {
   "cell_type": "code",
   "execution_count": 29,
   "id": "25ad99d9-61db-4299-b629-2ea6d144ff70",
   "metadata": {},
   "outputs": [
    {
     "data": {
      "text/plain": [
       "\"and it's fun\""
      ]
     },
     "execution_count": 29,
     "metadata": {},
     "output_type": "execute_result"
    }
   ],
   "source": [
    "message_2 = \"and it's fun\"\n",
    "message_2"
   ]
  },
  {
   "cell_type": "code",
   "execution_count": 32,
   "id": "c3f78f52-7bbf-4c67-b436-2e973ea6a36c",
   "metadata": {},
   "outputs": [
    {
     "data": {
      "text/plain": [
       "\"I'm learning Pythonand it's fun\""
      ]
     },
     "execution_count": 32,
     "metadata": {},
     "output_type": "execute_result"
    }
   ],
   "source": [
    "message_1 + message_2"
   ]
  },
  {
   "cell_type": "code",
   "execution_count": 31,
   "id": "1e6af350-1b91-4421-90fd-96d825002552",
   "metadata": {},
   "outputs": [
    {
     "data": {
      "text/plain": [
       "\"I'm learning Python and it's fun\""
      ]
     },
     "execution_count": 31,
     "metadata": {},
     "output_type": "execute_result"
    }
   ],
   "source": [
    "message_1 + ' ' + message_2"
   ]
  },
  {
   "cell_type": "code",
   "execution_count": 33,
   "id": "b09030f9-ad41-409d-947a-c4f446eaac08",
   "metadata": {},
   "outputs": [
    {
     "data": {
      "text/plain": [
       "'Halllooo semuanya'"
      ]
     },
     "execution_count": 33,
     "metadata": {},
     "output_type": "execute_result"
    }
   ],
   "source": [
    "f'Halllooo semuanya'"
   ]
  },
  {
   "cell_type": "code",
   "execution_count": 35,
   "id": "a3c20e86-6f3b-499e-9608-84b0f1a1f432",
   "metadata": {},
   "outputs": [
    {
     "data": {
      "text/plain": [
       "\"I'm learning Python and it's fun\""
      ]
     },
     "execution_count": 35,
     "metadata": {},
     "output_type": "execute_result"
    }
   ],
   "source": [
    "f'{message_1} {message_2}'"
   ]
  },
  {
   "cell_type": "markdown",
   "id": "d9d63a2e-16df-4303-8f6f-9a03aa5efb5b",
   "metadata": {},
   "source": [
    "## 4. List"
   ]
  },
  {
   "cell_type": "code",
   "execution_count": 47,
   "id": "65b8c847-25db-41ab-9bc3-d0c360a3d852",
   "metadata": {},
   "outputs": [],
   "source": [
    "food = ['Pizza', 'Indomie', 'Burger', 'Soto Tegal', 'Sate Ayam']"
   ]
  },
  {
   "cell_type": "code",
   "execution_count": 48,
   "id": "1443f530-d205-4ac9-86ad-d91d0ed110a6",
   "metadata": {},
   "outputs": [
    {
     "data": {
      "text/plain": [
       "['Pizza', 'Indomie', 'Burger', 'Soto Tegal', 'Sate Ayam']"
      ]
     },
     "execution_count": 48,
     "metadata": {},
     "output_type": "execute_result"
    }
   ],
   "source": [
    "food"
   ]
  },
  {
   "cell_type": "code",
   "execution_count": 49,
   "id": "957a1617-986d-4c4e-bc48-f28504785d5c",
   "metadata": {},
   "outputs": [
    {
     "name": "stdout",
     "output_type": "stream",
     "text": [
      "Pizza\n",
      "Indomie\n",
      "Burger\n",
      "Soto Tegal\n",
      "Sate Ayam\n"
     ]
    }
   ],
   "source": [
    "print(food[0])\n",
    "print(food[1])\n",
    "print(food[2])\n",
    "print(food[3])\n",
    "print(food[4])"
   ]
  },
  {
   "cell_type": "code",
   "execution_count": 50,
   "id": "8a08d8f9-ba29-4af8-a022-17efd155b7a4",
   "metadata": {},
   "outputs": [
    {
     "data": {
      "text/plain": [
       "'Sate Ayam'"
      ]
     },
     "execution_count": 50,
     "metadata": {},
     "output_type": "execute_result"
    }
   ],
   "source": [
    "food[-1]"
   ]
  },
  {
   "cell_type": "code",
   "execution_count": 51,
   "id": "ba83b2b4-57c3-448a-b2ca-c6a2e9160f81",
   "metadata": {},
   "outputs": [
    {
     "data": {
      "text/plain": [
       "'Pizza'"
      ]
     },
     "execution_count": 51,
     "metadata": {},
     "output_type": "execute_result"
    }
   ],
   "source": [
    "food[-5]"
   ]
  },
  {
   "cell_type": "code",
   "execution_count": 53,
   "id": "62f18b4c-0812-4117-a5aa-23f265e411c8",
   "metadata": {},
   "outputs": [],
   "source": [
    "#slicing\n",
    "#list_name[start:stop]"
   ]
  },
  {
   "cell_type": "code",
   "execution_count": 54,
   "id": "c374da45-fdee-45f0-a75b-0e64b0abd606",
   "metadata": {},
   "outputs": [
    {
     "data": {
      "text/plain": [
       "['Pizza', 'Indomie', 'Burger']"
      ]
     },
     "execution_count": 54,
     "metadata": {},
     "output_type": "execute_result"
    }
   ],
   "source": [
    "food[0:3]"
   ]
  },
  {
   "cell_type": "code",
   "execution_count": 56,
   "id": "7a5b3c3a-0200-4d75-899f-c98077eb14e4",
   "metadata": {},
   "outputs": [
    {
     "data": {
      "text/plain": [
       "['Soto Tegal']"
      ]
     },
     "execution_count": 56,
     "metadata": {},
     "output_type": "execute_result"
    }
   ],
   "source": [
    "food[3:4]"
   ]
  },
  {
   "cell_type": "code",
   "execution_count": 57,
   "id": "cd8d4a1c-ee09-48e2-a730-77c70f3c0e66",
   "metadata": {},
   "outputs": [
    {
     "data": {
      "text/plain": [
       "[]"
      ]
     },
     "execution_count": 57,
     "metadata": {},
     "output_type": "execute_result"
    }
   ],
   "source": [
    "food[2:2]"
   ]
  },
  {
   "cell_type": "code",
   "execution_count": 58,
   "id": "074baf27-872f-4ae2-b9d7-4adc30f52707",
   "metadata": {},
   "outputs": [
    {
     "data": {
      "text/plain": [
       "[]"
      ]
     },
     "execution_count": 58,
     "metadata": {},
     "output_type": "execute_result"
    }
   ],
   "source": [
    "food[3:0]"
   ]
  },
  {
   "cell_type": "code",
   "execution_count": 59,
   "id": "e3360cf3-e3e7-4a1d-9367-e6417e75e181",
   "metadata": {},
   "outputs": [
    {
     "data": {
      "text/plain": [
       "['Soto Tegal', 'Sate Ayam']"
      ]
     },
     "execution_count": 59,
     "metadata": {},
     "output_type": "execute_result"
    }
   ],
   "source": [
    "food[3:]"
   ]
  },
  {
   "cell_type": "code",
   "execution_count": 62,
   "id": "4675ceb7-4c1e-45f4-8beb-3e50e0a584c4",
   "metadata": {},
   "outputs": [
    {
     "data": {
      "text/plain": [
       "['Pizza', 'Indomie', 'Burger', 'Soto Tegal']"
      ]
     },
     "execution_count": 62,
     "metadata": {},
     "output_type": "execute_result"
    }
   ],
   "source": [
    "food[:4]"
   ]
  },
  {
   "cell_type": "code",
   "execution_count": 64,
   "id": "3ff04afa-fc97-4d4d-b854-15590751e794",
   "metadata": {},
   "outputs": [
    {
     "data": {
      "text/plain": [
       "['Burger', 'Soto Tegal', 'Sate Ayam']"
      ]
     },
     "execution_count": 64,
     "metadata": {},
     "output_type": "execute_result"
    }
   ],
   "source": [
    "food[-3:]"
   ]
  },
  {
   "cell_type": "code",
   "execution_count": 65,
   "id": "1f0da22d-e3fe-4fa7-a3da-7e9ff0f783b8",
   "metadata": {},
   "outputs": [
    {
     "data": {
      "text/plain": [
       "['Pizza', 'Indomie', 'Burger']"
      ]
     },
     "execution_count": 65,
     "metadata": {},
     "output_type": "execute_result"
    }
   ],
   "source": [
    "food[:-2]"
   ]
  },
  {
   "cell_type": "code",
   "execution_count": 66,
   "id": "70593f57-4d79-44a9-96f6-2828ab4cb98b",
   "metadata": {},
   "outputs": [
    {
     "data": {
      "text/plain": [
       "['Indomie', 'Burger', 'Soto Tegal']"
      ]
     },
     "execution_count": 66,
     "metadata": {},
     "output_type": "execute_result"
    }
   ],
   "source": [
    "food[-4:-1]"
   ]
  },
  {
   "cell_type": "code",
   "execution_count": 67,
   "id": "a38261bf-b2b2-4557-9469-76b50df3d9ed",
   "metadata": {},
   "outputs": [
    {
     "data": {
      "text/plain": [
       "[]"
      ]
     },
     "execution_count": 67,
     "metadata": {},
     "output_type": "execute_result"
    }
   ],
   "source": [
    "food[-2:-5]"
   ]
  },
  {
   "cell_type": "markdown",
   "id": "8d0ea4e7-ff4c-4957-963b-175f25a7c4f5",
   "metadata": {},
   "source": [
    "### 4.1 Adding Element to List"
   ]
  },
  {
   "cell_type": "code",
   "execution_count": 68,
   "id": "70cd4e67-e303-43ba-bbec-2d21b246b545",
   "metadata": {},
   "outputs": [
    {
     "data": {
      "text/plain": [
       "['Pizza', 'Indomie', 'Burger', 'Soto Tegal', 'Sate Ayam']"
      ]
     },
     "execution_count": 68,
     "metadata": {},
     "output_type": "execute_result"
    }
   ],
   "source": [
    "food"
   ]
  },
  {
   "cell_type": "code",
   "execution_count": 72,
   "id": "26374aa6-dd91-49cd-ac31-79bbbcd45fbe",
   "metadata": {},
   "outputs": [],
   "source": [
    "food.append('Martabak')"
   ]
  },
  {
   "cell_type": "code",
   "execution_count": 86,
   "id": "a8b3e4b8-b48c-466d-a636-43d23217de15",
   "metadata": {},
   "outputs": [
    {
     "data": {
      "text/plain": [
       "['Pizza', 'Indomie', 'Burger', 'Soto Tegal', 'Sate Ayam', 'Martabak']"
      ]
     },
     "execution_count": 86,
     "metadata": {},
     "output_type": "execute_result"
    }
   ],
   "source": [
    "food"
   ]
  },
  {
   "cell_type": "code",
   "execution_count": 88,
   "id": "35346fed-1daa-47cd-a572-bad2be5d7c3a",
   "metadata": {},
   "outputs": [],
   "source": [
    "food.insert(1, 'Bakso')"
   ]
  },
  {
   "cell_type": "code",
   "execution_count": 89,
   "id": "3b563377-4e3b-4f6d-a5bd-2d6256c765b1",
   "metadata": {},
   "outputs": [
    {
     "data": {
      "text/plain": [
       "['Pizza', 'Bakso', 'Indomie', 'Burger', 'Soto Tegal', 'Sate Ayam', 'Martabak']"
      ]
     },
     "execution_count": 89,
     "metadata": {},
     "output_type": "execute_result"
    }
   ],
   "source": [
    "food"
   ]
  },
  {
   "cell_type": "code",
   "execution_count": 90,
   "id": "e435f1e1-3cb4-4d76-9698-0b03fd803c87",
   "metadata": {},
   "outputs": [],
   "source": [
    "food_2 = ['Kebab', 'Salad Buah', 'Fried Chikken']"
   ]
  },
  {
   "cell_type": "code",
   "execution_count": 91,
   "id": "822c6ba7-96b6-4c49-83e1-55dd11defcea",
   "metadata": {
    "scrolled": true
   },
   "outputs": [
    {
     "data": {
      "text/plain": [
       "['Pizza',\n",
       " 'Bakso',\n",
       " 'Indomie',\n",
       " 'Burger',\n",
       " 'Soto Tegal',\n",
       " 'Sate Ayam',\n",
       " 'Martabak',\n",
       " 'Kebab',\n",
       " 'Salad Buah',\n",
       " 'Fried Chikken']"
      ]
     },
     "execution_count": 91,
     "metadata": {},
     "output_type": "execute_result"
    }
   ],
   "source": [
    "food + food_2"
   ]
  },
  {
   "cell_type": "code",
   "execution_count": 92,
   "id": "879d4f77-50fc-4d30-ad35-02e4bc56b772",
   "metadata": {},
   "outputs": [],
   "source": [
    "nested_list = [food, food_2]"
   ]
  },
  {
   "cell_type": "code",
   "execution_count": 93,
   "id": "06e363d2-623b-4b43-ab55-eb0e55c47d65",
   "metadata": {},
   "outputs": [
    {
     "data": {
      "text/plain": [
       "[['Pizza',\n",
       "  'Bakso',\n",
       "  'Indomie',\n",
       "  'Burger',\n",
       "  'Soto Tegal',\n",
       "  'Sate Ayam',\n",
       "  'Martabak'],\n",
       " ['Kebab', 'Salad Buah', 'Fried Chikken']]"
      ]
     },
     "execution_count": 93,
     "metadata": {},
     "output_type": "execute_result"
    }
   ],
   "source": [
    "nested_list"
   ]
  },
  {
   "cell_type": "markdown",
   "id": "aed5243f-fb00-4122-a1d0-3b61d9385ed0",
   "metadata": {},
   "source": [
    "### 4.2 Removing an element"
   ]
  },
  {
   "cell_type": "code",
   "execution_count": 94,
   "id": "b2c5accd-35db-4b05-815a-52d99f364a85",
   "metadata": {},
   "outputs": [
    {
     "data": {
      "text/plain": [
       "['Pizza', 'Bakso', 'Indomie', 'Burger', 'Soto Tegal', 'Sate Ayam', 'Martabak']"
      ]
     },
     "execution_count": 94,
     "metadata": {},
     "output_type": "execute_result"
    }
   ],
   "source": [
    "food"
   ]
  },
  {
   "cell_type": "code",
   "execution_count": 95,
   "id": "61a33ff1-77e4-418f-adec-2c5ec395ae59",
   "metadata": {},
   "outputs": [],
   "source": [
    "food.remove('Martabak')"
   ]
  },
  {
   "cell_type": "code",
   "execution_count": 96,
   "id": "866195a7-26a2-4905-a35f-18f5ddc58d6a",
   "metadata": {},
   "outputs": [
    {
     "data": {
      "text/plain": [
       "['Pizza', 'Bakso', 'Indomie', 'Burger', 'Soto Tegal', 'Sate Ayam']"
      ]
     },
     "execution_count": 96,
     "metadata": {},
     "output_type": "execute_result"
    }
   ],
   "source": [
    "food"
   ]
  },
  {
   "cell_type": "code",
   "execution_count": 98,
   "id": "6b10a3bd-d843-4dc9-8712-fdc4579c1e7a",
   "metadata": {},
   "outputs": [
    {
     "data": {
      "text/plain": [
       "'Burger'"
      ]
     },
     "execution_count": 98,
     "metadata": {},
     "output_type": "execute_result"
    }
   ],
   "source": [
    "food.pop(-3)"
   ]
  },
  {
   "cell_type": "code",
   "execution_count": 99,
   "id": "362e2ea2-dfd2-429b-889e-c163b668dc72",
   "metadata": {},
   "outputs": [
    {
     "data": {
      "text/plain": [
       "['Pizza', 'Bakso', 'Indomie', 'Soto Tegal', 'Sate Ayam']"
      ]
     },
     "execution_count": 99,
     "metadata": {},
     "output_type": "execute_result"
    }
   ],
   "source": [
    "food"
   ]
  },
  {
   "cell_type": "code",
   "execution_count": 100,
   "id": "b5732632-ab5d-47d3-8b95-12f5e87a9e8b",
   "metadata": {},
   "outputs": [],
   "source": [
    "del food[2]"
   ]
  },
  {
   "cell_type": "code",
   "execution_count": 101,
   "id": "15474053-0400-4e52-b236-9df20a9ab04c",
   "metadata": {},
   "outputs": [
    {
     "data": {
      "text/plain": [
       "['Pizza', 'Bakso', 'Soto Tegal', 'Sate Ayam']"
      ]
     },
     "execution_count": 101,
     "metadata": {},
     "output_type": "execute_result"
    }
   ],
   "source": [
    "food"
   ]
  },
  {
   "cell_type": "markdown",
   "id": "4b292552-be33-43c7-ba6d-2968a6085082",
   "metadata": {},
   "source": [
    "### 4.3 Sorting a list"
   ]
  },
  {
   "cell_type": "code",
   "execution_count": 102,
   "id": "fca3715a-d554-4274-bd14-1011c89f46cc",
   "metadata": {},
   "outputs": [],
   "source": [
    "numbers = [2, 9, 6, 3, 0, 8, 23, 56, 1]"
   ]
  },
  {
   "cell_type": "code",
   "execution_count": 103,
   "id": "df132404-df06-44ca-8a8c-359d8edafd7a",
   "metadata": {},
   "outputs": [
    {
     "data": {
      "text/plain": [
       "[2, 9, 6, 3, 0, 8, 23, 56, 1]"
      ]
     },
     "execution_count": 103,
     "metadata": {},
     "output_type": "execute_result"
    }
   ],
   "source": [
    "numbers"
   ]
  },
  {
   "cell_type": "code",
   "execution_count": 104,
   "id": "fed901c4-08fa-4e66-9760-db594011c7f6",
   "metadata": {},
   "outputs": [],
   "source": [
    "numbers.sort()"
   ]
  },
  {
   "cell_type": "code",
   "execution_count": 105,
   "id": "eef05be8-a85c-4029-9d36-5363342c1439",
   "metadata": {},
   "outputs": [
    {
     "data": {
      "text/plain": [
       "[0, 1, 2, 3, 6, 8, 9, 23, 56]"
      ]
     },
     "execution_count": 105,
     "metadata": {},
     "output_type": "execute_result"
    }
   ],
   "source": [
    "numbers"
   ]
  },
  {
   "cell_type": "code",
   "execution_count": 106,
   "id": "851afb6d-5550-45a4-87ae-bd93e02404cd",
   "metadata": {},
   "outputs": [],
   "source": [
    "numbers.sort(reverse=True)"
   ]
  },
  {
   "cell_type": "code",
   "execution_count": 107,
   "id": "56e22455-9222-41fe-9e54-4388aa996a24",
   "metadata": {},
   "outputs": [
    {
     "data": {
      "text/plain": [
       "[56, 23, 9, 8, 6, 3, 2, 1, 0]"
      ]
     },
     "execution_count": 107,
     "metadata": {},
     "output_type": "execute_result"
    }
   ],
   "source": [
    "numbers"
   ]
  },
  {
   "cell_type": "markdown",
   "id": "22377903-5eb7-42d7-9691-55551d42a898",
   "metadata": {},
   "source": [
    "### 4.4 Update an element"
   ]
  },
  {
   "cell_type": "code",
   "execution_count": 108,
   "id": "0d95f0ab-d0e8-43ff-8e9a-fac95fc2a473",
   "metadata": {},
   "outputs": [
    {
     "data": {
      "text/plain": [
       "[56, 23, 9, 8, 6, 3, 2, 1, 0]"
      ]
     },
     "execution_count": 108,
     "metadata": {},
     "output_type": "execute_result"
    }
   ],
   "source": [
    "numbers"
   ]
  },
  {
   "cell_type": "code",
   "execution_count": 109,
   "id": "a925f8c1-a686-44fa-82c5-164ac3c3032c",
   "metadata": {},
   "outputs": [],
   "source": [
    "numbers[0] = 5000"
   ]
  },
  {
   "cell_type": "code",
   "execution_count": 110,
   "id": "5c7e9a0f-1fc2-45f5-b733-6d7d3184beea",
   "metadata": {},
   "outputs": [
    {
     "data": {
      "text/plain": [
       "[5000, 23, 9, 8, 6, 3, 2, 1, 0]"
      ]
     },
     "execution_count": 110,
     "metadata": {},
     "output_type": "execute_result"
    }
   ],
   "source": [
    "numbers"
   ]
  },
  {
   "cell_type": "markdown",
   "id": "f2f9244d-28f0-491f-b708-bb53d17293f8",
   "metadata": {},
   "source": [
    "### 4.5 Copying a list"
   ]
  },
  {
   "cell_type": "code",
   "execution_count": 116,
   "id": "c399e667-9f6e-42d6-bad2-9dfb8b8110c5",
   "metadata": {},
   "outputs": [
    {
     "data": {
      "text/plain": [
       "['Pizza', 'Indomie', 'Burger', 'Soto Tegal', 'Sate Ayam']"
      ]
     },
     "execution_count": 116,
     "metadata": {},
     "output_type": "execute_result"
    }
   ],
   "source": [
    "#Ini adalah list food terakhir disimpan(sudah melewati metode append dan di remove)\n",
    "food"
   ]
  },
  {
   "cell_type": "code",
   "execution_count": 3,
   "id": "ed93da37-730b-4e8c-a286-2a2270afae88",
   "metadata": {},
   "outputs": [],
   "source": [
    "#Ini adalah list food yang pertama kali dibuat\n",
    "food = ['Pizza', 'Indomie', 'Burger', 'Soto Tegal', 'Sate Ayam']"
   ]
  },
  {
   "cell_type": "code",
   "execution_count": 45,
   "id": "049f2c6c-6722-4295-882d-49e7aae4d866",
   "metadata": {},
   "outputs": [
    {
     "data": {
      "text/plain": [
       "['Pizza', 'Indomie', 'Burger', 'Soto Tegal', 'Sate Ayam']"
      ]
     },
     "execution_count": 45,
     "metadata": {},
     "output_type": "execute_result"
    }
   ],
   "source": [
    "food"
   ]
  },
  {
   "cell_type": "code",
   "execution_count": 120,
   "id": "9fad356d-9ee6-4e0c-a4e8-b259cb5f396c",
   "metadata": {},
   "outputs": [],
   "source": [
    "#Jika kita melakukan slicing tanpa memberikan start dan stop nya maka itu artinya kita meminta semua list\n",
    "new_list = food[:]"
   ]
  },
  {
   "cell_type": "code",
   "execution_count": 115,
   "id": "c6f16628-cdb7-480c-b789-3da08a01b2a6",
   "metadata": {},
   "outputs": [
    {
     "data": {
      "text/plain": [
       "['Pizza', 'Indomie', 'Burger', 'Soto Tegal', 'Sate Ayam']"
      ]
     },
     "execution_count": 115,
     "metadata": {},
     "output_type": "execute_result"
    }
   ],
   "source": [
    "new_list"
   ]
  },
  {
   "cell_type": "code",
   "execution_count": 118,
   "id": "6217aec9-5f77-4f93-9efa-b6cb9a3f0d9f",
   "metadata": {},
   "outputs": [],
   "source": [
    "new_list_2 = new_list.copy()"
   ]
  },
  {
   "cell_type": "code",
   "execution_count": 119,
   "id": "b507d1a3-f717-4b67-a06a-5246f37a7d4e",
   "metadata": {},
   "outputs": [
    {
     "data": {
      "text/plain": [
       "['Pizza', 'Indomie', 'Burger', 'Soto Tegal', 'Sate Ayam']"
      ]
     },
     "execution_count": 119,
     "metadata": {},
     "output_type": "execute_result"
    }
   ],
   "source": [
    "new_list_2"
   ]
  },
  {
   "cell_type": "markdown",
   "id": "f8706db8-4f2d-4c80-91cd-05b115fa723f",
   "metadata": {},
   "source": [
    "## 5. Dictionary"
   ]
  },
  {
   "cell_type": "code",
   "execution_count": 1,
   "id": "0df854de-aaea-49bf-a56f-8b18640cc9bc",
   "metadata": {},
   "outputs": [],
   "source": [
    "# dict = {'key1':'value1', 'key2':'value2'}"
   ]
  },
  {
   "cell_type": "code",
   "execution_count": 3,
   "id": "b1a90149-5bcf-4bc0-9d19-8e4a65fbd7e9",
   "metadata": {},
   "outputs": [],
   "source": [
    "my_data = {'name':'Adnin', 'age':20}"
   ]
  },
  {
   "cell_type": "code",
   "execution_count": 6,
   "id": "2b0b1b8f-dbc2-4848-8822-19ac8d27425d",
   "metadata": {},
   "outputs": [
    {
     "data": {
      "text/plain": [
       "{'name': 'Adnin', 'age': 20}"
      ]
     },
     "execution_count": 6,
     "metadata": {},
     "output_type": "execute_result"
    }
   ],
   "source": [
    "my_data"
   ]
  },
  {
   "cell_type": "code",
   "execution_count": 4,
   "id": "d3f37849-ada0-4810-8d19-4af48fb09d70",
   "metadata": {},
   "outputs": [
    {
     "data": {
      "text/plain": [
       "dict_keys(['name', 'age'])"
      ]
     },
     "execution_count": 4,
     "metadata": {},
     "output_type": "execute_result"
    }
   ],
   "source": [
    "my_data.keys()"
   ]
  },
  {
   "cell_type": "code",
   "execution_count": 5,
   "id": "fab7c53d-5960-48cd-84a4-f2f5f5f0b21c",
   "metadata": {},
   "outputs": [
    {
     "data": {
      "text/plain": [
       "dict_values(['Adnin', 20])"
      ]
     },
     "execution_count": 5,
     "metadata": {},
     "output_type": "execute_result"
    }
   ],
   "source": [
    "my_data.values()"
   ]
  },
  {
   "cell_type": "code",
   "execution_count": 7,
   "id": "b7bf3ccc-7532-4e48-a2a1-8098688b8606",
   "metadata": {},
   "outputs": [
    {
     "data": {
      "text/plain": [
       "dict_items([('name', 'Adnin'), ('age', 20)])"
      ]
     },
     "execution_count": 7,
     "metadata": {},
     "output_type": "execute_result"
    }
   ],
   "source": [
    "my_data.items()"
   ]
  },
  {
   "cell_type": "code",
   "execution_count": 10,
   "id": "9ee55a09-a048-4774-bcae-03d68144edf7",
   "metadata": {},
   "outputs": [],
   "source": [
    "my_data['height'] = 170"
   ]
  },
  {
   "cell_type": "code",
   "execution_count": 11,
   "id": "8f0b33dd-2bb2-4785-98de-ad03a72f216f",
   "metadata": {},
   "outputs": [
    {
     "data": {
      "text/plain": [
       "{'name': 'Adnin', 'age': 20, 'height': 170}"
      ]
     },
     "execution_count": 11,
     "metadata": {},
     "output_type": "execute_result"
    }
   ],
   "source": [
    "my_data"
   ]
  },
  {
   "cell_type": "code",
   "execution_count": 25,
   "id": "1ff8a571-5d92-4717-a254-5eee859852fd",
   "metadata": {},
   "outputs": [],
   "source": [
    "my_data.update({'height':190})"
   ]
  },
  {
   "cell_type": "code",
   "execution_count": 26,
   "id": "2171c31d-2b99-4e78-861a-41cebb87d6e2",
   "metadata": {},
   "outputs": [
    {
     "data": {
      "text/plain": [
       "{'name': 'Adnin', 'age': 20, 'height': 190}"
      ]
     },
     "execution_count": 26,
     "metadata": {},
     "output_type": "execute_result"
    }
   ],
   "source": [
    "my_data"
   ]
  },
  {
   "cell_type": "markdown",
   "id": "304d9707-6e0a-4460-b0c4-d9ee72713e48",
   "metadata": {},
   "source": [
    "### 5.1 Copy a dictionary"
   ]
  },
  {
   "cell_type": "code",
   "execution_count": 20,
   "id": "24d9cba2-7c07-4d4b-a166-d302d3631dbd",
   "metadata": {},
   "outputs": [
    {
     "data": {
      "text/plain": [
       "{'name': 'Adnin', 'age': 20, 'height': 180}"
      ]
     },
     "execution_count": 20,
     "metadata": {},
     "output_type": "execute_result"
    }
   ],
   "source": [
    "my_data.copy()"
   ]
  },
  {
   "cell_type": "code",
   "execution_count": 21,
   "id": "9f765bdb-619a-4c5b-9cf1-7964c2145f3f",
   "metadata": {},
   "outputs": [],
   "source": [
    "new = my_data.copy()"
   ]
  },
  {
   "cell_type": "code",
   "execution_count": 22,
   "id": "943e897d-88d3-427b-848b-35d33d0b36d4",
   "metadata": {},
   "outputs": [
    {
     "data": {
      "text/plain": [
       "{'name': 'Adnin', 'age': 20, 'height': 180}"
      ]
     },
     "execution_count": 22,
     "metadata": {},
     "output_type": "execute_result"
    }
   ],
   "source": [
    "new"
   ]
  },
  {
   "cell_type": "code",
   "execution_count": 23,
   "id": "ad7bf43b-f521-4b9b-b00d-c515b21f7dc9",
   "metadata": {},
   "outputs": [],
   "source": [
    "new_2 = my_data"
   ]
  },
  {
   "cell_type": "code",
   "execution_count": 27,
   "id": "185694b9-6d02-4dc4-818f-d3684bf4414b",
   "metadata": {},
   "outputs": [
    {
     "data": {
      "text/plain": [
       "{'name': 'Adnin', 'age': 20, 'height': 190}"
      ]
     },
     "execution_count": 27,
     "metadata": {},
     "output_type": "execute_result"
    }
   ],
   "source": [
    "new_2"
   ]
  },
  {
   "cell_type": "markdown",
   "id": "49e130ad-8965-4985-9e5f-e4dbc58618b2",
   "metadata": {},
   "source": [
    "### 5.2 Remove an element"
   ]
  },
  {
   "cell_type": "code",
   "execution_count": 28,
   "id": "6db33edd-5493-4df9-8051-e4d3b56ddfae",
   "metadata": {},
   "outputs": [
    {
     "data": {
      "text/plain": [
       "'Adnin'"
      ]
     },
     "execution_count": 28,
     "metadata": {},
     "output_type": "execute_result"
    }
   ],
   "source": [
    "my_data.pop('name')"
   ]
  },
  {
   "cell_type": "code",
   "execution_count": 29,
   "id": "f2b753aa-816c-4dc2-9a04-9e1648ea43d9",
   "metadata": {},
   "outputs": [
    {
     "data": {
      "text/plain": [
       "{'age': 20, 'height': 190}"
      ]
     },
     "execution_count": 29,
     "metadata": {},
     "output_type": "execute_result"
    }
   ],
   "source": [
    "my_data"
   ]
  },
  {
   "cell_type": "code",
   "execution_count": 31,
   "id": "b71a1239-8b5d-4214-b550-7344504485fc",
   "metadata": {},
   "outputs": [],
   "source": [
    "del my_data['height']"
   ]
  },
  {
   "cell_type": "code",
   "execution_count": 32,
   "id": "9be77ba5-e6cb-4832-94da-9451435b2fd3",
   "metadata": {},
   "outputs": [
    {
     "data": {
      "text/plain": [
       "{'age': 20}"
      ]
     },
     "execution_count": 32,
     "metadata": {},
     "output_type": "execute_result"
    }
   ],
   "source": [
    "my_data"
   ]
  },
  {
   "cell_type": "code",
   "execution_count": 33,
   "id": "e0a9bbd6-928e-4201-992f-7b871dbc1f08",
   "metadata": {},
   "outputs": [],
   "source": [
    "my_data.clear()"
   ]
  },
  {
   "cell_type": "code",
   "execution_count": 34,
   "id": "5e213a30-377f-4e9d-a6f2-6c1cdb3e40a4",
   "metadata": {},
   "outputs": [
    {
     "data": {
      "text/plain": [
       "{}"
      ]
     },
     "execution_count": 34,
     "metadata": {},
     "output_type": "execute_result"
    }
   ],
   "source": [
    "my_data"
   ]
  },
  {
   "cell_type": "markdown",
   "id": "b5574418-fde6-499a-a8e4-b25267154c7e",
   "metadata": {},
   "source": [
    "## 6. If Statement"
   ]
  },
  {
   "cell_type": "markdown",
   "id": "a084bd37-6393-4877-ac88-d30c59f69c40",
   "metadata": {},
   "source": [
    "if <condition>:\n",
    "    <code>\n",
    "elif <condition>:\n",
    "    <code>\n",
    "...\n",
    "else:\n",
    "    <code>"
   ]
  },
  {
   "cell_type": "code",
   "execution_count": 41,
   "id": "1e9bf1ef-aeea-4f1f-9b17-636a2becc8c6",
   "metadata": {},
   "outputs": [
    {
     "name": "stdout",
     "output_type": "stream",
     "text": [
      "You're an adult\n"
     ]
    }
   ],
   "source": [
    "age = 18\n",
    "\n",
    "if age <= 10:\n",
    "    print(\"You're a baby\")\n",
    "elif age <= 15:\n",
    "    print(\"You're a teenager\")\n",
    "elif age <=30:\n",
    "    print(\"You're an adult\")\n",
    "else:\n",
    "    print(\"You're an old\")"
   ]
  },
  {
   "cell_type": "markdown",
   "id": "a1dbeb84-f42f-4883-aca0-ebf682aebc50",
   "metadata": {},
   "source": [
    "## 7. For Loop"
   ]
  },
  {
   "cell_type": "markdown",
   "id": "fee780f3-0894-437f-a5ca-5cac8cefb0ac",
   "metadata": {},
   "source": [
    "for <variable> in <list>:\n",
    "    <code>"
   ]
  },
  {
   "cell_type": "code",
   "execution_count": 46,
   "id": "d148169b-5a97-436e-8bd4-b9437a734403",
   "metadata": {},
   "outputs": [
    {
     "data": {
      "text/plain": [
       "['Pizza', 'Indomie', 'Burger', 'Soto Tegal', 'Sate Ayam']"
      ]
     },
     "execution_count": 46,
     "metadata": {},
     "output_type": "execute_result"
    }
   ],
   "source": [
    "food"
   ]
  },
  {
   "cell_type": "code",
   "execution_count": 47,
   "id": "f6732b7d-549b-4fc8-bb62-a2b86794844a",
   "metadata": {},
   "outputs": [
    {
     "name": "stdout",
     "output_type": "stream",
     "text": [
      "Pizza\n",
      "Indomie\n",
      "Burger\n",
      "Soto Tegal\n",
      "Sate Ayam\n"
     ]
    }
   ],
   "source": [
    "for meal in food:\n",
    "    print(meal)"
   ]
  },
  {
   "cell_type": "code",
   "execution_count": 54,
   "id": "f29cd851-ef36-4962-9dcb-73676b63b264",
   "metadata": {},
   "outputs": [
    {
     "name": "stdout",
     "output_type": "stream",
     "text": [
      "0\n",
      "Pizza\n",
      "1\n",
      "Indomie\n",
      "2\n",
      "Burger\n",
      "3\n",
      "Soto Tegal\n",
      "4\n",
      "Sate Ayam\n"
     ]
    }
   ],
   "source": [
    "for i, meal in enumerate(food):\n",
    "    print(i)\n",
    "    print(meal)"
   ]
  },
  {
   "cell_type": "code",
   "execution_count": 57,
   "id": "689e488e-f9cc-4a11-a4f1-ce78deb6c4e0",
   "metadata": {},
   "outputs": [
    {
     "data": {
      "text/plain": [
       "{'name': 'Adnin', 'age': 20}"
      ]
     },
     "execution_count": 57,
     "metadata": {},
     "output_type": "execute_result"
    }
   ],
   "source": [
    "my_data = {'name':'Adnin', 'age':20}\n",
    "my_data"
   ]
  },
  {
   "cell_type": "code",
   "execution_count": 63,
   "id": "ece05b01-80a6-4bfc-9057-40e50426d04f",
   "metadata": {},
   "outputs": [
    {
     "name": "stdout",
     "output_type": "stream",
     "text": [
      "name\n",
      "Adnin\n",
      "age\n",
      "20\n"
     ]
    }
   ],
   "source": [
    "for key, value in my_data.items():\n",
    "    print(key)\n",
    "    print(value)"
   ]
  },
  {
   "cell_type": "markdown",
   "id": "590a3442-8ba2-4541-b4de-13fd36bf65d2",
   "metadata": {},
   "source": [
    "## 8. Function"
   ]
  },
  {
   "cell_type": "markdown",
   "id": "fc04875e-625f-4963-9300-8f9e50b2cf71",
   "metadata": {},
   "source": [
    "def function(<params>):\n",
    "    <code>\n",
    "    return <data>"
   ]
  },
  {
   "cell_type": "code",
   "execution_count": 64,
   "id": "15632cca-0da3-43c0-9fcc-8e70a7c6f824",
   "metadata": {},
   "outputs": [],
   "source": [
    "def sum_value(a, b, c):\n",
    "    x = a + (b - c)\n",
    "    return x"
   ]
  },
  {
   "cell_type": "code",
   "execution_count": 65,
   "id": "47b33113-92c5-4348-be9a-d72f39fee429",
   "metadata": {},
   "outputs": [
    {
     "data": {
      "text/plain": [
       "5"
      ]
     },
     "execution_count": 65,
     "metadata": {},
     "output_type": "execute_result"
    }
   ],
   "source": [
    "sum_value(2, 4, 1)"
   ]
  },
  {
   "cell_type": "markdown",
   "id": "69a82843-bf09-4051-bf5f-9c7d4652f045",
   "metadata": {},
   "source": [
    "### 8.1 Built in function"
   ]
  },
  {
   "cell_type": "code",
   "execution_count": 4,
   "id": "afa9e745-34fe-4358-8cc4-77f2670f5e8c",
   "metadata": {},
   "outputs": [
    {
     "data": {
      "text/plain": [
       "['Pizza', 'Indomie', 'Burger', 'Soto Tegal', 'Sate Ayam']"
      ]
     },
     "execution_count": 4,
     "metadata": {},
     "output_type": "execute_result"
    }
   ],
   "source": [
    "food"
   ]
  },
  {
   "cell_type": "code",
   "execution_count": 5,
   "id": "f69d2548-d9f1-4114-91c1-d92bbb35a437",
   "metadata": {},
   "outputs": [
    {
     "data": {
      "text/plain": [
       "5"
      ]
     },
     "execution_count": 5,
     "metadata": {},
     "output_type": "execute_result"
    }
   ],
   "source": [
    "len(food)"
   ]
  },
  {
   "cell_type": "code",
   "execution_count": 8,
   "id": "a418fe91-edf3-4f20-a903-da45650e243f",
   "metadata": {},
   "outputs": [
    {
     "data": {
      "text/plain": [
       "91"
      ]
     },
     "execution_count": 8,
     "metadata": {},
     "output_type": "execute_result"
    }
   ],
   "source": [
    "max([56, 82, 52, 37, 49, 91, 38, 54])"
   ]
  },
  {
   "cell_type": "code",
   "execution_count": 9,
   "id": "91b01f53-1942-48ee-b5a6-cb8243fc4350",
   "metadata": {},
   "outputs": [
    {
     "data": {
      "text/plain": [
       "37"
      ]
     },
     "execution_count": 9,
     "metadata": {},
     "output_type": "execute_result"
    }
   ],
   "source": [
    "min([56, 82, 52, 37, 49, 91, 38, 54])"
   ]
  },
  {
   "cell_type": "code",
   "execution_count": 10,
   "id": "de7c1abe-4f15-4c33-86e8-b917325bfba7",
   "metadata": {},
   "outputs": [
    {
     "data": {
      "text/plain": [
       "list"
      ]
     },
     "execution_count": 10,
     "metadata": {},
     "output_type": "execute_result"
    }
   ],
   "source": [
    "type(food)"
   ]
  },
  {
   "cell_type": "code",
   "execution_count": 13,
   "id": "738883f6-412a-477d-8852-c66e968c7278",
   "metadata": {},
   "outputs": [
    {
     "name": "stdout",
     "output_type": "stream",
     "text": [
      "0\n",
      "2\n",
      "4\n",
      "6\n",
      "8\n"
     ]
    }
   ],
   "source": [
    "for i in range(0, 10, 2):\n",
    "    print(i)"
   ]
  },
  {
   "cell_type": "markdown",
   "id": "3af10738-7df9-47d4-ada1-6d260fc084c7",
   "metadata": {},
   "source": [
    "## 9. Module"
   ]
  },
  {
   "cell_type": "code",
   "execution_count": null,
   "id": "5321219d-042d-47df-954f-f11282cd9829",
   "metadata": {},
   "outputs": [],
   "source": [
    "import"
   ]
  },
  {
   "cell_type": "markdown",
   "id": "9d92fe23-69b6-41aa-b797-aca4259c2632",
   "metadata": {},
   "source": [
    "### 9.1 OS Module"
   ]
  },
  {
   "cell_type": "code",
   "execution_count": 15,
   "id": "c650c8a4-8164-4175-bc37-028c3e4507fd",
   "metadata": {},
   "outputs": [],
   "source": [
    "import os"
   ]
  },
  {
   "cell_type": "code",
   "execution_count": 17,
   "id": "e55e85d0-7362-4fb3-899c-25c0559a845e",
   "metadata": {},
   "outputs": [
    {
     "data": {
      "text/plain": [
       "'C:\\\\Users\\\\ADNIN DANIL AZKIA\\\\Anaconda Scripts\\\\Belajar'"
      ]
     },
     "execution_count": 17,
     "metadata": {},
     "output_type": "execute_result"
    }
   ],
   "source": [
    "os.getcwd()"
   ]
  },
  {
   "cell_type": "code",
   "execution_count": 18,
   "id": "7007f56b-c2f8-45ac-9270-25ea12d415ae",
   "metadata": {},
   "outputs": [
    {
     "data": {
      "text/plain": [
       "['.ipynb_checkpoints', 'Python_Basics.ipynb']"
      ]
     },
     "execution_count": 18,
     "metadata": {},
     "output_type": "execute_result"
    }
   ],
   "source": [
    "os.listdir()"
   ]
  },
  {
   "cell_type": "code",
   "execution_count": 19,
   "id": "e2889296-4e3e-4c46-b800-89c46c312fb1",
   "metadata": {},
   "outputs": [],
   "source": [
    "os.makedirs(\"New Folder\")"
   ]
  },
  {
   "cell_type": "code",
   "execution_count": 20,
   "id": "940ed432-d422-495a-8b0b-dfdf4cb9411f",
   "metadata": {},
   "outputs": [
    {
     "data": {
      "text/plain": [
       "['.ipynb_checkpoints', 'New Folder', 'Python_Basics.ipynb']"
      ]
     },
     "execution_count": 20,
     "metadata": {},
     "output_type": "execute_result"
    }
   ],
   "source": [
    "os.listdir()"
   ]
  },
  {
   "cell_type": "code",
   "execution_count": null,
   "id": "d8d5aafa-5832-4f13-ae86-a04a5c511dec",
   "metadata": {},
   "outputs": [],
   "source": []
  },
  {
   "cell_type": "code",
   "execution_count": null,
   "id": "5f666eec-c653-4b26-b0aa-c725a957b176",
   "metadata": {},
   "outputs": [],
   "source": []
  }
 ],
 "metadata": {
  "kernelspec": {
   "display_name": "Python 3 (ipykernel)",
   "language": "python",
   "name": "python3"
  },
  "language_info": {
   "codemirror_mode": {
    "name": "ipython",
    "version": 3
   },
   "file_extension": ".py",
   "mimetype": "text/x-python",
   "name": "python",
   "nbconvert_exporter": "python",
   "pygments_lexer": "ipython3",
   "version": "3.13.5"
  }
 },
 "nbformat": 4,
 "nbformat_minor": 5
}
